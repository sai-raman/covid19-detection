{
  "nbformat": 4,
  "nbformat_minor": 0,
  "metadata": {
    "colab": {
      "name": "covid_detection.ipynb",
      "provenance": [],
      "mount_file_id": "1oojfabVROqUF6CBIvwyAfxfy6ubUg42Y",
      "authorship_tag": "ABX9TyNLPqaU+5J45SCZqqz1MCvk",
      "include_colab_link": true
    },
    "kernelspec": {
      "name": "python3",
      "display_name": "Python 3"
    },
    "accelerator": "GPU"
  },
  "cells": [
    {
      "cell_type": "markdown",
      "metadata": {
        "id": "view-in-github",
        "colab_type": "text"
      },
      "source": [
        "<a href=\"https://colab.research.google.com/github/sai-raman/covid19-detection/blob/main/covid_detection.ipynb\" target=\"_parent\"><img src=\"https://colab.research.google.com/assets/colab-badge.svg\" alt=\"Open In Colab\"/></a>"
      ]
    },
    {
      "cell_type": "code",
      "metadata": {
        "id": "j1ok-a1ikZ0b"
      },
      "source": [
        "TRAIN_PATH = \"drive/My Drive/colab_dataset/covid-detection/Train\"\n",
        "TEST_PATH =   \"drive/My Drive/colab_dataset/covid-detection/Test\""
      ],
      "execution_count": 12,
      "outputs": []
    },
    {
      "cell_type": "code",
      "metadata": {
        "id": "VTdvSwfxpIXN"
      },
      "source": [
        "import numpy as np\n",
        "import matplotlib.pyplot as plt\n",
        "import tensorflow as tf\n",
        "from tensorflow.keras.layers import *\n",
        "from tensorflow.keras.models import *\n",
        "from tensorflow.keras.preprocessing import image"
      ],
      "execution_count": 3,
      "outputs": []
    },
    {
      "cell_type": "code",
      "metadata": {
        "id": "loTNRGMepwyh"
      },
      "source": [
        "model = Sequential()\n",
        "model.add(Conv2D(32, kernel_size = (3,3),activation='relu',input_shape=(224,224,3)))\n",
        "model.add(Conv2D(64,kernel_size = (3,3),activation=\"relu\"))\n",
        "model.add(MaxPooling2D(pool_size=(2,2))) \n",
        "model.add(Dropout(0.25))\n",
        "\n",
        "model.add(Conv2D(64,(3,3),activation='relu'))\n",
        "model.add(MaxPooling2D(pool_size=(2,2))) \n",
        "model.add(Dropout(0.25))\n",
        "\n",
        "\n",
        "\n",
        "model.add(Conv2D(128,(3,3),activation='relu'))\n",
        "model.add(MaxPooling2D(pool_size=(2,2))) \n",
        "model.add(Dropout(0.25))\n",
        "\n",
        "model.add(Flatten())\n",
        "model.add(Dense(64,activation='relu'))\n",
        "model.add(Dropout(0.5))\n",
        "model.add(Dense(1,activation='sigmoid'))\n",
        "\n",
        "\n",
        "model.compile(loss = tf.keras.losses.binary_crossentropy,optimizer='adam',metrics=['accuracy'])"
      ],
      "execution_count": 6,
      "outputs": []
    },
    {
      "cell_type": "code",
      "metadata": {
        "id": "Y47uDaWJNxRw",
        "outputId": "d2757446-97d9-43f0-bc09-49da61c50208",
        "colab": {
          "base_uri": "https://localhost:8080/"
        }
      },
      "source": [
        "model.summary()"
      ],
      "execution_count": 7,
      "outputs": [
        {
          "output_type": "stream",
          "text": [
            "Model: \"sequential_2\"\n",
            "_________________________________________________________________\n",
            "Layer (type)                 Output Shape              Param #   \n",
            "=================================================================\n",
            "conv2d_8 (Conv2D)            (None, 222, 222, 32)      896       \n",
            "_________________________________________________________________\n",
            "conv2d_9 (Conv2D)            (None, 220, 220, 64)      18496     \n",
            "_________________________________________________________________\n",
            "max_pooling2d_6 (MaxPooling2 (None, 110, 110, 64)      0         \n",
            "_________________________________________________________________\n",
            "dropout_8 (Dropout)          (None, 110, 110, 64)      0         \n",
            "_________________________________________________________________\n",
            "conv2d_10 (Conv2D)           (None, 108, 108, 64)      36928     \n",
            "_________________________________________________________________\n",
            "max_pooling2d_7 (MaxPooling2 (None, 54, 54, 64)        0         \n",
            "_________________________________________________________________\n",
            "dropout_9 (Dropout)          (None, 54, 54, 64)        0         \n",
            "_________________________________________________________________\n",
            "conv2d_11 (Conv2D)           (None, 52, 52, 128)       73856     \n",
            "_________________________________________________________________\n",
            "max_pooling2d_8 (MaxPooling2 (None, 26, 26, 128)       0         \n",
            "_________________________________________________________________\n",
            "dropout_10 (Dropout)         (None, 26, 26, 128)       0         \n",
            "_________________________________________________________________\n",
            "flatten_2 (Flatten)          (None, 86528)             0         \n",
            "_________________________________________________________________\n",
            "dense_3 (Dense)              (None, 64)                5537856   \n",
            "_________________________________________________________________\n",
            "dropout_11 (Dropout)         (None, 64)                0         \n",
            "_________________________________________________________________\n",
            "dense_4 (Dense)              (None, 1)                 65        \n",
            "=================================================================\n",
            "Total params: 5,668,097\n",
            "Trainable params: 5,668,097\n",
            "Non-trainable params: 0\n",
            "_________________________________________________________________\n"
          ],
          "name": "stdout"
        }
      ]
    },
    {
      "cell_type": "code",
      "metadata": {
        "id": "VXoi23hfN1Uw"
      },
      "source": [
        "# Training\n",
        "\n",
        "train_data_generator = image.ImageDataGenerator(\n",
        "    rescale = 1.0/255,\n",
        "    shear_range = 0.2,\n",
        "    zoom_range = 0.2,\n",
        "    horizontal_flip = True\n",
        ")\n",
        "\n",
        "test_data_generator = image.ImageDataGenerator(rescale=1.0/255)\n"
      ],
      "execution_count": 10,
      "outputs": []
    },
    {
      "cell_type": "code",
      "metadata": {
        "id": "oXwTk6GDPfkS",
        "outputId": "4ab0c05d-ed11-4c18-a28f-a9853534e31c",
        "colab": {
          "base_uri": "https://localhost:8080/"
        }
      },
      "source": [
        "train_gen = train_data_generator.flow_from_directory(\n",
        "    TRAIN_PATH,\n",
        "    target_size = (224,224),\n",
        "    batch_size = 32,\n",
        "    class_mode = 'binary'\n",
        ")\n",
        "\n"
      ],
      "execution_count": 13,
      "outputs": [
        {
          "output_type": "stream",
          "text": [
            "Found 303 images belonging to 2 classes.\n"
          ],
          "name": "stdout"
        }
      ]
    },
    {
      "cell_type": "code",
      "metadata": {
        "id": "bJ1TGRreQQbg",
        "outputId": "6be0460c-e6b9-4379-d850-57658d18898e",
        "colab": {
          "base_uri": "https://localhost:8080/"
        }
      },
      "source": [
        "train_gen.class_indices"
      ],
      "execution_count": 15,
      "outputs": [
        {
          "output_type": "execute_result",
          "data": {
            "text/plain": [
              "{'Covid': 0, 'Normal': 1}"
            ]
          },
          "metadata": {
            "tags": []
          },
          "execution_count": 15
        }
      ]
    },
    {
      "cell_type": "code",
      "metadata": {
        "id": "wGhrJp_wRKf7",
        "outputId": "d2aaf93a-5153-4eb2-fe1e-7c507bf66fab",
        "colab": {
          "base_uri": "https://localhost:8080/"
        }
      },
      "source": [
        "test_gen = test_data_generator.flow_from_directory(\n",
        "    TEST_PATH,\n",
        "    tar get_size = (224,224),\n",
        "    batch_size = 32,\n",
        "    class_mode = 'binary'\n",
        ")\n",
        "\n"
      ],
      "execution_count": 16,
      "outputs": [
        {
          "output_type": "stream",
          "text": [
            "Found 88 images belonging to 2 classes.\n"
          ],
          "name": "stdout"
        }
      ]
    },
    {
      "cell_type": "code",
      "metadata": {
        "id": "8GjH9WlVViHK",
        "outputId": "6e7b6de2-a79e-423f-df47-be351dfc904d",
        "colab": {
          "base_uri": "https://localhost:8080/"
        }
      },
      "source": [
        "history = model.fit_generator(\n",
        "    train_gen,\n",
        "    steps_per_epoch=8,\n",
        "    epochs=10,\n",
        "    validation_data=test_gen,\n",
        "    validation_steps=2\n",
        ")"
      ],
      "execution_count": 17,
      "outputs": [
        {
          "output_type": "stream",
          "text": [
            "WARNING:tensorflow:From <ipython-input-17-d207393211ec>:6: Model.fit_generator (from tensorflow.python.keras.engine.training) is deprecated and will be removed in a future version.\n",
            "Instructions for updating:\n",
            "Please use Model.fit, which supports generators.\n",
            "Epoch 1/10\n",
            "8/8 [==============================] - 141s 18s/step - loss: 2.1325 - accuracy: 0.5314 - val_loss: 0.6983 - val_accuracy: 0.4375\n",
            "Epoch 2/10\n",
            "8/8 [==============================] - 24s 3s/step - loss: 0.6506 - accuracy: 0.6151 - val_loss: 0.5804 - val_accuracy: 0.9062\n",
            "Epoch 3/10\n",
            "8/8 [==============================] - 10s 1s/step - loss: 0.5315 - accuracy: 0.7531 - val_loss: 0.3850 - val_accuracy: 0.9531\n",
            "Epoch 4/10\n",
            "8/8 [==============================] - 10s 1s/step - loss: 0.4012 - accuracy: 0.8494 - val_loss: 0.2735 - val_accuracy: 0.9375\n",
            "Epoch 5/10\n",
            "8/8 [==============================] - 10s 1s/step - loss: 0.2755 - accuracy: 0.9079 - val_loss: 0.1232 - val_accuracy: 0.9375\n",
            "Epoch 6/10\n",
            "8/8 [==============================] - 10s 1s/step - loss: 0.2439 - accuracy: 0.9121 - val_loss: 0.1215 - val_accuracy: 0.9688\n",
            "Epoch 7/10\n",
            "8/8 [==============================] - 10s 1s/step - loss: 0.1756 - accuracy: 0.9297 - val_loss: 0.0704 - val_accuracy: 0.9844\n",
            "Epoch 8/10\n",
            "8/8 [==============================] - 10s 1s/step - loss: 0.2347 - accuracy: 0.9247 - val_loss: 0.0596 - val_accuracy: 0.9844\n",
            "Epoch 9/10\n",
            "8/8 [==============================] - 10s 1s/step - loss: 0.2293 - accuracy: 0.9331 - val_loss: 0.0929 - val_accuracy: 0.9844\n",
            "Epoch 10/10\n",
            "8/8 [==============================] - 10s 1s/step - loss: 0.1853 - accuracy: 0.9414 - val_loss: 0.0736 - val_accuracy: 0.9844\n"
          ],
          "name": "stdout"
        }
      ]
    },
    {
      "cell_type": "code",
      "metadata": {
        "id": "ikgZhukzXTRK"
      },
      "source": [
        "model.save('covid_model.h5')"
      ],
      "execution_count": 18,
      "outputs": []
    },
    {
      "cell_type": "code",
      "metadata": {
        "id": "pOtRIujcXhPC",
        "outputId": "4680ee41-999b-4112-858f-650f7c2fc72a",
        "colab": {
          "base_uri": "https://localhost:8080/"
        }
      },
      "source": [
        "model.evaluate_generator(train_gen)"
      ],
      "execution_count": 19,
      "outputs": [
        {
          "output_type": "stream",
          "text": [
            "WARNING:tensorflow:From <ipython-input-19-f4308831b76d>:1: Model.evaluate_generator (from tensorflow.python.keras.engine.training) is deprecated and will be removed in a future version.\n",
            "Instructions for updating:\n",
            "Please use Model.evaluate, which supports generators.\n"
          ],
          "name": "stdout"
        },
        {
          "output_type": "execute_result",
          "data": {
            "text/plain": [
              "[0.15345796942710876, 0.9405940771102905]"
            ]
          },
          "metadata": {
            "tags": []
          },
          "execution_count": 19
        }
      ]
    },
    {
      "cell_type": "code",
      "metadata": {
        "id": "PikA3QKaXoQj",
        "outputId": "929b0f35-a7e0-4aa3-cb23-c011558dbbcf",
        "colab": {
          "base_uri": "https://localhost:8080/"
        }
      },
      "source": [
        "model.evaluate_generator(test_gen)"
      ],
      "execution_count": 20,
      "outputs": [
        {
          "output_type": "execute_result",
          "data": {
            "text/plain": [
              "[0.07291407138109207, 0.9772727489471436]"
            ]
          },
          "metadata": {
            "tags": []
          },
          "execution_count": 20
        }
      ]
    },
    {
      "cell_type": "code",
      "metadata": {
        "id": "RNCnJQaeXtqQ"
      },
      "source": [
        ""
      ],
      "execution_count": null,
      "outputs": []
    }
  ]
}